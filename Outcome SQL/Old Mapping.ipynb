{
 "cells": [
  {
   "cell_type": "code",
   "execution_count": null,
   "metadata": {
    "code_folding": [
     0
    ]
   },
   "outputs": [],
   "source": [
    "#imports \n",
    "import multiprocessing\n",
    "import re \n",
    "from collections import Counter\n",
    "\n",
    "import feather\n",
    "import matplotlib as mpt\n",
    "import matplotlib.pyplot as plt\n",
    "import numpy as np\n",
    "import pandas as pd\n",
    "import plotly.graph_objs as go\n",
    "import plotly.plotly as py\n",
    "import scipy as sc\n",
    "import seaborn as sns\n",
    "import pickle\n",
    "from jupyterthemes import jtplot\n",
    "from sklearn.decomposition import PCA\n",
    "from sklearn.preprocessing import StandardScaler\n",
    "from sklearn.linear_model import LogisticRegression\n",
    "from sklearn.linear_model import LogisticRegressionCV\n",
    "\n",
    "jtplot.style(\n",
    "    theme='grade3',\n",
    "    context='paper',\n",
    "    fscale=1.4,\n",
    "    spines=True,\n",
    "    gridlines='--',\n",
    "    ticks=True,\n",
    "    grid=False,\n",
    "    figsize=(6, 4.5))\n",
    "\n",
    "#mpt.rcParams\n",
    "\n",
    "%matplotlib inline\n",
    "%config InlineBackend.figure_format = 'retina'\n",
    "\n",
    "ROOT = \"/Users/payalchandak/Not On Dropbox/Data/Sex Demographics/\" "
   ]
  },
  {
   "cell_type": "code",
   "execution_count": null,
   "metadata": {},
   "outputs": [],
   "source": [
    "df = pd.read_feather(ROOT + \"AEOLUS/aeolus_Nick.tsv.feather\")"
   ]
  },
  {
   "cell_type": "code",
   "execution_count": null,
   "metadata": {
    "code_folding": [
     0
    ]
   },
   "outputs": [],
   "source": [
    "# Cleaning \n",
    "\n",
    "#Drop irrelevant columns \n",
    "df=df.drop(labels=[ \n",
    "    'drug_outcome_name',\n",
    "    'aed',\n",
    "    'age_cat', \n",
    "    'tot_drug_outcomes',\n",
    "    'drug_marginal',\n",
    "    'outcome_marginal',\n",
    "    'a',\n",
    "    'b',\n",
    "    'c',\n",
    "    'd',\n",
    "    'N',\n",
    "    'RRR',\n",
    "    'ROR',\n",
    "    'PRR',\n",
    "    'IC',\n",
    "    'IC_posterior_expectation',\n",
    "    ], axis=1) \n",
    "\n",
    "#Capitalize to title case \n",
    "df['drug_concept_name'] = df['drug_concept_name'].apply(lambda x: str(x).title())\n",
    "df['outcome_concept_name'] = df['outcome_concept_name'].apply(lambda x: str(x).title())\n",
    "\n",
    "#clean aeolus gender ~ only keep M and F \n",
    "df = df.query('gender_code==\"M\" or gender_code==\"F\"')\n",
    "\n",
    "#write to file\n",
    "df.reset_index().drop('index',axis=1).to_feather(ROOT+\"AEOLUS/clean_withRank.tsv.feather\")"
   ]
  },
  {
   "cell_type": "code",
   "execution_count": null,
   "metadata": {
    "code_folding": [
     0
    ]
   },
   "outputs": [],
   "source": [
    "# Snomed-Meddra-Outcome Severity Mapping and adding to 'df'  \n",
    "\n",
    "outMap = pd.read_csv(ROOT + \"Outcome Severity Mapping/MEDDRA SNOMED.txt\", delimiter=\"\\t\")\n",
    "outRank = pd.read_excel(ROOT + 'Outcome Severity Mapping/Ranked ADRs.xlsx', sheet_name='Ranked ADRs')\n",
    "\n",
    "#creating outcomes table with unique outcomes and ranks\n",
    "#assigns -1 for unmapped \n",
    "#assigns 0 for unranked\n",
    "\n",
    "outcomes = df.loc[:, ['snomed_outcome_concept_id']].drop_duplicates(\n",
    ").reset_index().loc[:, ['snomed_outcome_concept_id']]\n",
    "outcomes[\"outcome_rank\"] = np.nan\n",
    "numOutcomes = outcomes['snomed_outcome_concept_id'].count()\n",
    "\n",
    "for i in range(0, numOutcomes):\n",
    "    snowID = outcomes.at[i, 'snomed_outcome_concept_id']\n",
    "    mapQ = outMap.query('snomed_concept_id == @snowID')\n",
    "    if mapQ.empty:\n",
    "        outcomes.at[i, 'outcome_rank'] = -1\n",
    "    else:\n",
    "        medName = mapQ.reset_index().loc[0, 'meddra_concept_name'].upper()\n",
    "        rankQ = outRank.query('Name == @medName')\n",
    "        if rankQ.empty:\n",
    "            outcomes.at[i, 'outcome_rank'] = 0\n",
    "        else:\n",
    "            outcomes.at[i, 'outcome_rank'] = rankQ.reset_index().at[\n",
    "                0, 'Rank score']\n",
    "\n",
    "#Putting outcome ranks in main dataframe\n",
    "df = df.sort_values(by='snomed_outcome_concept_id')\n",
    "outcomes = outcomes.sort_values(by='snomed_outcome_concept_id')\n",
    "df[\"outcome_rank\"] = np.nan\n",
    "temp_snowID = 0\n",
    "temp_rank = 0\n",
    "numPatients = df['id'].count()\n",
    "\n",
    "for i in range(0, numPatients):\n",
    "    df_snowID = df.at[i, 'snomed_outcome_concept_id']\n",
    "    if (temp_snowID != df_snowID):\n",
    "        temp_outcomes = outcomes.query(\n",
    "            'snomed_outcome_concept_id == @df_snowID').reset_index()\n",
    "        temp_rank = temp_outcomes.at[0, 'outcome_rank']\n",
    "        temp_snowID = temp_outcomes.at[0, 'snomed_outcome_concept_id']\n",
    "    df.at[i, 'outcome_rank'] = temp_rank\n",
    "\n",
    "#display counts of outcome ranks\n",
    "#df.loc[:,['id','outcome_rank']].groupby('outcome_rank').count().sort_values(by='id',ascending=False)"
   ]
  },
  {
   "cell_type": "code",
   "execution_count": null,
   "metadata": {},
   "outputs": [],
   "source": []
  },
  {
   "cell_type": "code",
   "execution_count": null,
   "metadata": {},
   "outputs": [],
   "source": []
  }
 ],
 "metadata": {
  "kernelspec": {
   "display_name": "Python 3",
   "language": "python",
   "name": "python3"
  },
  "language_info": {
   "codemirror_mode": {
    "name": "ipython",
    "version": 3
   },
   "file_extension": ".py",
   "mimetype": "text/x-python",
   "name": "python",
   "nbconvert_exporter": "python",
   "pygments_lexer": "ipython3",
   "version": "3.6.5"
  },
  "toc": {
   "base_numbering": 1,
   "nav_menu": {},
   "number_sections": true,
   "sideBar": true,
   "skip_h1_title": false,
   "title_cell": "Table of Contents",
   "title_sidebar": "Contents",
   "toc_cell": false,
   "toc_position": {},
   "toc_section_display": true,
   "toc_window_display": false
  }
 },
 "nbformat": 4,
 "nbformat_minor": 2
}
