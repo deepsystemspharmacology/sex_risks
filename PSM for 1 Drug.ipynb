{
 "cells": [
  {
   "cell_type": "code",
   "execution_count": 1,
   "metadata": {
    "ExecuteTime": {
     "end_time": "2018-10-30T19:34:47.190124Z",
     "start_time": "2018-10-30T19:34:47.185653Z"
    }
   },
   "outputs": [],
   "source": [
    "drug = \"Acetaminophen\""
   ]
  },
  {
   "cell_type": "code",
   "execution_count": 2,
   "metadata": {
    "ExecuteTime": {
     "end_time": "2018-10-30T19:34:53.258039Z",
     "start_time": "2018-10-30T19:34:47.439708Z"
    },
    "code_folding": [
     0
    ]
   },
   "outputs": [],
   "source": [
    "#imports \n",
    "import multiprocessing\n",
    "\n",
    "import feather\n",
    "import matplotlib as mpt\n",
    "import matplotlib.pyplot as plt\n",
    "import numpy as np\n",
    "import pandas as pd\n",
    "import scipy as sc\n",
    "import seaborn as sns\n",
    "import pickle\n",
    "from sklearn.linear_model import LogisticRegression\n",
    "from sklearn.linear_model import LogisticRegressionCV\n",
    "\n",
    "\n",
    "%matplotlib inline\n",
    "%config InlineBackend.figure_format = 'retina'\n",
    "\n",
    "\n",
    "\n",
    "\n",
    "ROOT = \"/Users/payalchandak/Not On Dropbox/Data/Sex Demographics/\" "
   ]
  },
  {
   "cell_type": "code",
   "execution_count": 3,
   "metadata": {
    "ExecuteTime": {
     "end_time": "2018-10-30T19:35:27.639668Z",
     "start_time": "2018-10-30T19:34:53.260190Z"
    }
   },
   "outputs": [],
   "source": [
    "df_aeolus = pd.read_feather(ROOT + \"AEOLUS/clean_withRank.tsv.feather\")\n",
    "df_PSM_all = pd.read_feather(ROOT+'PSM/Generic Matrix.feather').set_index('ID')\n",
    "df_PSM_all.index.name = 'ID'"
   ]
  },
  {
   "cell_type": "code",
   "execution_count": 4,
   "metadata": {
    "ExecuteTime": {
     "end_time": "2018-10-30T19:35:27.705933Z",
     "start_time": "2018-10-30T19:35:27.655299Z"
    }
   },
   "outputs": [
    {
     "data": {
      "text/html": [
       "<div>\n",
       "<style scoped>\n",
       "    .dataframe tbody tr th:only-of-type {\n",
       "        vertical-align: middle;\n",
       "    }\n",
       "\n",
       "    .dataframe tbody tr th {\n",
       "        vertical-align: top;\n",
       "    }\n",
       "\n",
       "    .dataframe thead th {\n",
       "        text-align: right;\n",
       "    }\n",
       "</style>\n",
       "<table border=\"1\" class=\"dataframe\">\n",
       "  <thead>\n",
       "    <tr style=\"text-align: right;\">\n",
       "      <th></th>\n",
       "      <th>Age</th>\n",
       "      <th>Sex</th>\n",
       "      <th>NumDrugs</th>\n",
       "      <th>Amoxicillin</th>\n",
       "      <th>Simvastatin</th>\n",
       "      <th>Nitroglycerin</th>\n",
       "      <th>Diclofenac</th>\n",
       "      <th>Prednisolone</th>\n",
       "      <th>Aspirin</th>\n",
       "      <th>Cisplatin</th>\n",
       "      <th>...</th>\n",
       "      <th>Grape.Seed.Extract</th>\n",
       "      <th>Beractant</th>\n",
       "      <th>Urofollitropin</th>\n",
       "      <th>Cetrorelix</th>\n",
       "      <th>Icatibant</th>\n",
       "      <th>Mipomersen</th>\n",
       "      <th>Betamethasone./.Clotrimazole.Topical.Ointment</th>\n",
       "      <th>Nystatin./.Triamcinolone.Topical.Ointment</th>\n",
       "      <th>Clodronic.Acid</th>\n",
       "      <th>Clofazimine</th>\n",
       "    </tr>\n",
       "    <tr>\n",
       "      <th>ID</th>\n",
       "      <th></th>\n",
       "      <th></th>\n",
       "      <th></th>\n",
       "      <th></th>\n",
       "      <th></th>\n",
       "      <th></th>\n",
       "      <th></th>\n",
       "      <th></th>\n",
       "      <th></th>\n",
       "      <th></th>\n",
       "      <th></th>\n",
       "      <th></th>\n",
       "      <th></th>\n",
       "      <th></th>\n",
       "      <th></th>\n",
       "      <th></th>\n",
       "      <th></th>\n",
       "      <th></th>\n",
       "      <th></th>\n",
       "      <th></th>\n",
       "      <th></th>\n",
       "    </tr>\n",
       "  </thead>\n",
       "  <tbody>\n",
       "    <tr>\n",
       "      <th>99376162</th>\n",
       "      <td>51</td>\n",
       "      <td>M</td>\n",
       "      <td>1</td>\n",
       "      <td>True</td>\n",
       "      <td>False</td>\n",
       "      <td>False</td>\n",
       "      <td>False</td>\n",
       "      <td>False</td>\n",
       "      <td>False</td>\n",
       "      <td>False</td>\n",
       "      <td>...</td>\n",
       "      <td>False</td>\n",
       "      <td>False</td>\n",
       "      <td>False</td>\n",
       "      <td>False</td>\n",
       "      <td>False</td>\n",
       "      <td>False</td>\n",
       "      <td>False</td>\n",
       "      <td>False</td>\n",
       "      <td>False</td>\n",
       "      <td>False</td>\n",
       "    </tr>\n",
       "    <tr>\n",
       "      <th>4329751</th>\n",
       "      <td>52</td>\n",
       "      <td>M</td>\n",
       "      <td>3</td>\n",
       "      <td>True</td>\n",
       "      <td>True</td>\n",
       "      <td>False</td>\n",
       "      <td>False</td>\n",
       "      <td>False</td>\n",
       "      <td>False</td>\n",
       "      <td>False</td>\n",
       "      <td>...</td>\n",
       "      <td>False</td>\n",
       "      <td>False</td>\n",
       "      <td>False</td>\n",
       "      <td>False</td>\n",
       "      <td>False</td>\n",
       "      <td>False</td>\n",
       "      <td>False</td>\n",
       "      <td>False</td>\n",
       "      <td>False</td>\n",
       "      <td>False</td>\n",
       "    </tr>\n",
       "    <tr>\n",
       "      <th>4338498</th>\n",
       "      <td>60</td>\n",
       "      <td>F</td>\n",
       "      <td>1</td>\n",
       "      <td>True</td>\n",
       "      <td>False</td>\n",
       "      <td>False</td>\n",
       "      <td>False</td>\n",
       "      <td>False</td>\n",
       "      <td>False</td>\n",
       "      <td>False</td>\n",
       "      <td>...</td>\n",
       "      <td>False</td>\n",
       "      <td>False</td>\n",
       "      <td>False</td>\n",
       "      <td>False</td>\n",
       "      <td>False</td>\n",
       "      <td>False</td>\n",
       "      <td>False</td>\n",
       "      <td>False</td>\n",
       "      <td>False</td>\n",
       "      <td>False</td>\n",
       "    </tr>\n",
       "    <tr>\n",
       "      <th>4546516</th>\n",
       "      <td>36</td>\n",
       "      <td>F</td>\n",
       "      <td>4</td>\n",
       "      <td>True</td>\n",
       "      <td>False</td>\n",
       "      <td>False</td>\n",
       "      <td>False</td>\n",
       "      <td>False</td>\n",
       "      <td>False</td>\n",
       "      <td>False</td>\n",
       "      <td>...</td>\n",
       "      <td>False</td>\n",
       "      <td>False</td>\n",
       "      <td>False</td>\n",
       "      <td>False</td>\n",
       "      <td>False</td>\n",
       "      <td>False</td>\n",
       "      <td>False</td>\n",
       "      <td>False</td>\n",
       "      <td>False</td>\n",
       "      <td>False</td>\n",
       "    </tr>\n",
       "    <tr>\n",
       "      <th>4737732</th>\n",
       "      <td>39</td>\n",
       "      <td>M</td>\n",
       "      <td>10</td>\n",
       "      <td>True</td>\n",
       "      <td>False</td>\n",
       "      <td>False</td>\n",
       "      <td>False</td>\n",
       "      <td>False</td>\n",
       "      <td>False</td>\n",
       "      <td>False</td>\n",
       "      <td>...</td>\n",
       "      <td>False</td>\n",
       "      <td>False</td>\n",
       "      <td>False</td>\n",
       "      <td>False</td>\n",
       "      <td>False</td>\n",
       "      <td>False</td>\n",
       "      <td>False</td>\n",
       "      <td>False</td>\n",
       "      <td>False</td>\n",
       "      <td>False</td>\n",
       "    </tr>\n",
       "  </tbody>\n",
       "</table>\n",
       "<p>5 rows × 1508 columns</p>\n",
       "</div>"
      ],
      "text/plain": [
       "          Age Sex  NumDrugs  Amoxicillin  Simvastatin  Nitroglycerin  \\\n",
       "ID                                                                     \n",
       "99376162   51   M         1         True        False          False   \n",
       "4329751    52   M         3         True         True          False   \n",
       "4338498    60   F         1         True        False          False   \n",
       "4546516    36   F         4         True        False          False   \n",
       "4737732    39   M        10         True        False          False   \n",
       "\n",
       "          Diclofenac  Prednisolone  Aspirin  Cisplatin     ...       \\\n",
       "ID                                                         ...        \n",
       "99376162       False         False    False      False     ...        \n",
       "4329751        False         False    False      False     ...        \n",
       "4338498        False         False    False      False     ...        \n",
       "4546516        False         False    False      False     ...        \n",
       "4737732        False         False    False      False     ...        \n",
       "\n",
       "          Grape.Seed.Extract  Beractant  Urofollitropin  Cetrorelix  \\\n",
       "ID                                                                    \n",
       "99376162               False      False           False       False   \n",
       "4329751                False      False           False       False   \n",
       "4338498                False      False           False       False   \n",
       "4546516                False      False           False       False   \n",
       "4737732                False      False           False       False   \n",
       "\n",
       "          Icatibant  Mipomersen  \\\n",
       "ID                                \n",
       "99376162      False       False   \n",
       "4329751       False       False   \n",
       "4338498       False       False   \n",
       "4546516       False       False   \n",
       "4737732       False       False   \n",
       "\n",
       "          Betamethasone./.Clotrimazole.Topical.Ointment  \\\n",
       "ID                                                        \n",
       "99376162                                          False   \n",
       "4329751                                           False   \n",
       "4338498                                           False   \n",
       "4546516                                           False   \n",
       "4737732                                           False   \n",
       "\n",
       "          Nystatin./.Triamcinolone.Topical.Ointment  Clodronic.Acid  \\\n",
       "ID                                                                    \n",
       "99376162                                      False           False   \n",
       "4329751                                       False           False   \n",
       "4338498                                       False           False   \n",
       "4546516                                       False           False   \n",
       "4737732                                       False           False   \n",
       "\n",
       "          Clofazimine  \n",
       "ID                     \n",
       "99376162        False  \n",
       "4329751         False  \n",
       "4338498         False  \n",
       "4546516         False  \n",
       "4737732         False  \n",
       "\n",
       "[5 rows x 1508 columns]"
      ]
     },
     "execution_count": 4,
     "metadata": {},
     "output_type": "execute_result"
    }
   ],
   "source": [
    "df_PSM_all_all.head()"
   ]
  },
  {
   "cell_type": "code",
   "execution_count": 6,
   "metadata": {
    "ExecuteTime": {
     "end_time": "2018-10-30T01:21:29.089635Z",
     "start_time": "2018-10-30T01:21:22.961256Z"
    }
   },
   "outputs": [],
   "source": [
    "#getting df_PSM for case (exposed to drug) & control (unexposed) cohorts\n",
    "cases = df_PSM_all.query('{}==1'.format(drug))\n",
    "controls = df_PSM_all.query('{}==0'.format(drug))"
   ]
  },
  {
   "cell_type": "code",
   "execution_count": 7,
   "metadata": {
    "ExecuteTime": {
     "end_time": "2018-10-30T01:21:35.297143Z",
     "start_time": "2018-10-30T01:21:29.093470Z"
    },
    "code_folding": []
   },
   "outputs": [],
   "source": [
    "#getting COV (age, num drugs, concomittant > 1%)\n",
    "\n",
    "covariates = (cases>0).astype(np.int8).mean(axis=0).ge(0.01)\n",
    "covariates = np.array(covariates.index)[np.array(covariates.values)].tolist()\n",
    "covariates.remove(drug)\n",
    "covariates.remove('Sex')"
   ]
  },
  {
   "cell_type": "code",
   "execution_count": 8,
   "metadata": {
    "ExecuteTime": {
     "end_time": "2018-10-30T01:21:35.558418Z",
     "start_time": "2018-10-30T01:21:35.299719Z"
    }
   },
   "outputs": [],
   "source": [
    "# setting x & y for logistic regression\n",
    "# x: covariates \n",
    "# y: drug\n",
    "\n",
    "y = df_PSM_all.loc[:,[drug]]\n",
    "y=y.values.reshape(1,-1)[0]\n",
    "X = df_PSM_all.loc[:,covariates]"
   ]
  },
  {
   "cell_type": "code",
   "execution_count": 13,
   "metadata": {
    "ExecuteTime": {
     "end_time": "2018-10-30T01:33:24.781471Z",
     "start_time": "2018-10-30T01:25:04.355550Z"
    }
   },
   "outputs": [],
   "source": [
    "# making logistic regression model\n",
    "# with cross validation, l2 penalty\n",
    "\n",
    "model = LogisticRegressionCV(penalty='l2')\n",
    "propensity = model.fit(X,y)\n",
    "pscore = propensity.predict_proba(X)[:,1] \n",
    "df_PSM_all['Propensity'] = pscore"
   ]
  },
  {
   "cell_type": "code",
   "execution_count": 33,
   "metadata": {
    "ExecuteTime": {
     "end_time": "2018-10-29T17:52:17.615316Z",
     "start_time": "2018-10-29T17:52:17.609584Z"
    }
   },
   "outputs": [
    {
     "data": {
      "text/plain": [
       "180"
      ]
     },
     "execution_count": 33,
     "metadata": {},
     "output_type": "execute_result"
    }
   ],
   "source": [
    "len([b for b in (np.abs(propensity.coef_[0])) if b > 0])"
   ]
  },
  {
   "cell_type": "code",
   "execution_count": 36,
   "metadata": {
    "ExecuteTime": {
     "end_time": "2018-10-29T18:16:02.929387Z",
     "start_time": "2018-10-29T18:15:56.313231Z"
    }
   },
   "outputs": [],
   "source": [
    "# cases/controls with propensity\n",
    "\n",
    "cases = df_PSM_all.query('{}==1'.format(drug))\n",
    "controls = df_PSM_all.query('{}==0'.format(drug))"
   ]
  },
  {
   "cell_type": "code",
   "execution_count": 43,
   "metadata": {
    "ExecuteTime": {
     "end_time": "2018-10-29T18:19:16.504367Z",
     "start_time": "2018-10-29T18:19:16.092767Z"
    }
   },
   "outputs": [
    {
     "data": {
      "image/png": "[encoded data removed]",
      "text/plain": [
       "<Figure size 432x288 with 1 Axes>"
      ]
     },
     "metadata": {},
     "output_type": "display_data"
    }
   ],
   "source": [
    "# hist \n",
    "\n",
    "bins = np.linspace(0, 1, 100)\n",
    "plt.hist(controls.Propensity, bins, alpha=0.5, label='controls')\n",
    "plt.hist(cases.Propensity, bins, alpha=0.5, label='cases')\n",
    "plt.ylim(0,500)\n",
    "plt.title(drug+\" (180 drugs after keeping >= 1%)\")\n",
    "plt.xlabel(\"Propensity Score\")\n",
    "plt.legend(loc='upper right')\n",
    "plt.show()"
   ]
  },
  {
   "cell_type": "code",
   "execution_count": 44,
   "metadata": {
    "ExecuteTime": {
     "end_time": "2018-10-29T18:20:10.314702Z",
     "start_time": "2018-10-29T18:20:10.309972Z"
    },
    "code_folding": []
   },
   "outputs": [],
   "source": [
    "def getSensSpec(threshold): \n",
    "    TP, FN, TN, FP = 0, 0, 0, 0\n",
    "    \n",
    "    for idx, data in df_PSM_all.loc[:,[drug,'Propensity']].iterrows():\n",
    "        pscore = data.get('Propensity')\n",
    "        drugVal = data.get(drug)\n",
    "        if (drugVal):\n",
    "            if(pscore>=threshold):\n",
    "                TP+=1\n",
    "            else:\n",
    "                FN+=1\n",
    "        else:\n",
    "            if(pscore<=threshold):\n",
    "                TN+=1\n",
    "            else:\n",
    "                FP+=1\n",
    "    \n",
    "    sens = TP/(TP+FN)\n",
    "    spec = TN/(TN+FP)\n",
    "    return[threshold, sens, 1-spec]"
   ]
  },
  {
   "cell_type": "code",
   "execution_count": 45,
   "metadata": {
    "ExecuteTime": {
     "end_time": "2018-10-29T18:38:00.024421Z",
     "start_time": "2018-10-29T18:20:10.547434Z"
    }
   },
   "outputs": [],
   "source": [
    "# QUICK ROC ~ multiprocess \n",
    "\n",
    "thresholds = np.linspace(0,1,11)\n",
    "PROCESSES = 4\n",
    "pool = multiprocessing.Pool(processes=PROCESSES)\n",
    "result = pool.map(getSensSpec, thresholds)\n",
    "pool.close()\n",
    "names = [\"Threshold\", \"Sensitivity\", \"1 - Specificity\"]\n",
    "ROC_result = pd.DataFrame(data=result, columns=names)"
   ]
  },
  {
   "cell_type": "code",
   "execution_count": 46,
   "metadata": {
    "ExecuteTime": {
     "end_time": "2018-10-29T18:38:00.391329Z",
     "start_time": "2018-10-29T18:38:00.080825Z"
    }
   },
   "outputs": [
    {
     "data": {
      "image/png": "[encoded data removed]",
      "text/plain": [
       "<Figure size 432x288 with 1 Axes>"
      ]
     },
     "metadata": {},
     "output_type": "display_data"
    }
   ],
   "source": [
    "# PLOT ROC \n",
    "\n",
    "plt.plot( '1 - Specificity', 'Sensitivity', data=ROC_result, marker='o')\n",
    "plt.title(\"ROC: \"+drug)\n",
    "plt.xlabel(\"1 - Specificity\")\n",
    "plt.ylabel(\"Sensitivity\")\n",
    "plt.show()\n",
    "\n",
    "#sns.lmplot(data=ROC_result, x='', y='', fit_reg=False,)"
   ]
  },
  {
   "cell_type": "code",
   "execution_count": 47,
   "metadata": {
    "ExecuteTime": {
     "end_time": "2018-10-29T18:46:24.346203Z",
     "start_time": "2018-10-29T18:46:24.334395Z"
    },
    "collapsed": true
   },
   "outputs": [
    {
     "ename": "SyntaxError",
     "evalue": "invalid syntax (<ipython-input-47-18dc99f165f5>, line 2)",
     "output_type": "error",
     "traceback": [
      "\u001b[0;36m  File \u001b[0;32m\"<ipython-input-47-18dc99f165f5>\"\u001b[0;36m, line \u001b[0;32m2\u001b[0m\n\u001b[0;31m    ROC AUC\u001b[0m\n\u001b[0m          ^\u001b[0m\n\u001b[0;31mSyntaxError\u001b[0m\u001b[0;31m:\u001b[0m invalid syntax\n"
     ]
    }
   ],
   "source": [
    "cross_val_score\n",
    "ROC AUC "
   ]
  },
  {
   "cell_type": "code",
   "execution_count": 56,
   "metadata": {
    "ExecuteTime": {
     "end_time": "2018-10-29T19:39:37.111095Z",
     "start_time": "2018-10-29T19:23:32.582398Z"
    }
   },
   "outputs": [
    {
     "name": "stdout",
     "output_type": "stream",
     "text": [
      "[0.86749043 0.85936651 0.85274957]\n"
     ]
    }
   ],
   "source": [
    "from sklearn.model_selection import cross_val_score\n",
    "print(cross_val_score(model, X, y,scoring='roc_auc'))"
   ]
  },
  {
   "cell_type": "code",
   "execution_count": 14,
   "metadata": {
    "ExecuteTime": {
     "end_time": "2018-10-30T01:33:38.339289Z",
     "start_time": "2018-10-30T01:33:37.811325Z"
    }
   },
   "outputs": [
    {
     "data": {
      "text/plain": [
       "0.8592862260094495"
      ]
     },
     "execution_count": 14,
     "metadata": {},
     "output_type": "execute_result"
    }
   ],
   "source": [
    "from sklearn.metrics import roc_auc_score\n",
    "y_true = (df_PSM_all.get(drug)>0).astype(np.int8).values\n",
    "y_scores = df_PSM_all.get('Propensity').values\n",
    "roc_auc_score(y_true, y_scores)"
   ]
  },
  {
   "cell_type": "code",
   "execution_count": null,
   "metadata": {},
   "outputs": [],
   "source": [
    "df_PSM_all.get('Propensity').values"
   ]
  },
  {
   "cell_type": "code",
   "execution_count": 47,
   "metadata": {
    "ExecuteTime": {
     "end_time": "2018-10-30T01:52:20.619001Z",
     "start_time": "2018-10-30T01:52:19.939482Z"
    }
   },
   "outputs": [
    {
     "data": {
      "image/png": "[encoded data removed]",
      "text/plain": [
       "<Figure size 432x288 with 1 Axes>"
      ]
     },
     "metadata": {
      "image/png": {
       "height": 277,
       "width": 387
      }
     },
     "output_type": "display_data"
    }
   ],
   "source": [
    "from sklearn.metrics import roc_curve\n",
    "fpr, tpr, thresholds = roc_curve(y_true, y_scores)\n",
    "data=pd.DataFrame({'fpr':fpr, 'tpr':tpr})\n",
    "plt.plot('fpr','tpr', data=data, marker='o',ms=0.1)   \n",
    "plt.title(\"SkLearn ROC: \"+drug)\n",
    "plt.xlabel(\"1 - Specificity\")\n",
    "plt.ylabel(\"Sensitivity\")\n",
    "plt.show()"
   ]
  },
  {
   "cell_type": "code",
   "execution_count": 48,
   "metadata": {
    "ExecuteTime": {
     "end_time": "2018-10-30T02:15:00.022523Z",
     "start_time": "2018-10-30T02:15:00.008980Z"
    }
   },
   "outputs": [],
   "source": [
    "pkl_filename = ROOT+\"PSM/Models/Acet_CV_1%.pkl\" \n",
    "\n",
    "with open(pkl_filename, 'wb') as file:  \n",
    "    pickle.dump(propensity, file)"
   ]
  },
  {
   "cell_type": "code",
   "execution_count": 50,
   "metadata": {
    "ExecuteTime": {
     "end_time": "2018-10-30T02:23:48.386439Z",
     "start_time": "2018-10-30T02:23:48.378730Z"
    }
   },
   "outputs": [
    {
     "ename": "SyntaxError",
     "evalue": "invalid syntax (<ipython-input-50-998efc52620d>, line 1)",
     "output_type": "error",
     "traceback": [
      "\u001b[0;36m  File \u001b[0;32m\"<ipython-input-50-998efc52620d>\"\u001b[0;36m, line \u001b[0;32m1\u001b[0m\n\u001b[0;31m    ipython nbconvert --to script notebook.ipynb\u001b[0m\n\u001b[0m                    ^\u001b[0m\n\u001b[0;31mSyntaxError\u001b[0m\u001b[0;31m:\u001b[0m invalid syntax\n"
     ]
    }
   ],
   "source": [
    "ipython nbconvert --to script notebook.ipynb"
   ]
  },
  {
   "cell_type": "code",
   "execution_count": null,
   "metadata": {
    "ExecuteTime": {
     "start_time": "2018-10-31T00:52:53.185Z"
    }
   },
   "outputs": [],
   "source": [
    "#imports \n",
    "import multiprocessing\n",
    "import feather\n",
    "import matplotlib as mpt\n",
    "import matplotlib.pyplot as plt\n",
    "import numpy as np\n",
    "import pandas as pd\n",
    "import scipy as sc\n",
    "import seaborn as sns\n",
    "import pickle\n",
    "import os\n",
    "import shutil\n",
    "from pathlib import Path\n",
    "from sklearn.linear_model import LogisticRegression\n",
    "from sklearn.linear_model import LogisticRegressionCV\n",
    "from sklearn.model_selection import cross_val_score\n",
    "from sklearn.metrics import roc_auc_score\n",
    "from sklearn.metrics import roc_curve\n",
    "\n",
    "drug = \"Acetaminophen\"\n",
    "\n",
    "def log(message):\n",
    "\tLOG_PATH = Path(\"{}/log.txt\".format(drug))\n",
    "\tmessage = str(message)+\"\\n\"\n",
    "\n",
    "\tif LOG_PATH.is_file():\n",
    "\t\twith open(LOG_PATH, 'a') as log:\n",
    "\t\t\tlog.write(message)\n",
    "\telse:\n",
    "\t\twith open(LOG_PATH, 'w') as log:\n",
    "\t\t\tlog.write(\"New log created\\n\")\n",
    "\t\t\tlog.write(message)\n",
    "\n",
    "# Make new drug directory to store results \n",
    "if os.path.exists(drug):\n",
    "\tshutil.rmtree(drug)\n",
    "os.mkdir(drug)\n",
    "\n",
    "\n",
    "#read generic PSM matrix \n",
    "df_PSM_all = pd.read_feather('Generic Matrix.feather').set_index('ID')\n",
    "df_PSM_all.index.name = 'ID'\n",
    "log(\"Read general PSM data\")\n",
    "\n",
    "#getting df_PSM for case (exposed to drug) & control (unexposed) cohorts\n",
    "cases = df_PSM_all.query('{}==1'.format(drug))\n",
    "controls = df_PSM_all.query('{}==0'.format(drug))\n",
    "\n",
    "#getting COV (age, num drugs, concomittant > 1%)\n",
    "covariates = (cases>0).astype(np.int8).mean(axis=0).ge(0.01)\n",
    "covariates = np.array(covariates.index)[np.array(covariates.values)].tolist()\n",
    "covariates.remove(drug)\n",
    "covariates.remove('Sex')\n",
    "log(\"Got Covariates: \"+str(covariates))\n",
    "\n",
    "# setting x & y for logistic regression\n",
    "# x: covariates \n",
    "# y: drug\n",
    "y = df_PSM_all.loc[:,[drug]]\n",
    "y=y.values.reshape(1,-1)[0]\n",
    "X = df_PSM_all.loc[:,covariates]\n",
    "\n",
    "# making logistic regression model\n",
    "# with cross validation, l2 penalty\n",
    "\n",
    "model = LogisticRegressionCV(penalty='l2')\n",
    "\n",
    "propensity = model.fit(X,y)\n",
    "log(\"Fitted LR model w CV, L2\")\n",
    "\n",
    "pkl_filename = \"{}/LRCV.pkl\".format(drug)\n",
    "with open(pkl_filename, 'wb') as file:  \n",
    "    pickle.dump(propensity, file)\n",
    "log(\"Pickled\")\n",
    "\n",
    "retained = len([b for b in (np.abs(propensity.coef_[0])) if b > 0])\n",
    "if (retained==len(covariates)):\n",
    "\tlog(\"Covariates retained: ALL\")\n",
    "else:\n",
    "\tlog(\"Covariates retained: \"+str(retained))\n",
    "\n",
    "pscore = propensity.predict_proba(X)[:,1] \n",
    "df_PSM_all['Propensity'] = pscore\n",
    "log(\"pscores predicted & assigned\")\n",
    "\n",
    "df_PSM_all.loc[:,[drug,'Propensity']].reset_index().to_feather(\"{}/LRCV pscores.feather\".format(drug))\n",
    "log(\"pscores saved in dataframe\")\n",
    "\n",
    "# cases/controls with propensity\n",
    "cases = df_PSM_all.query('{}==1'.format(drug))\n",
    "controls = df_PSM_all.query('{}==0'.format(drug))\n",
    "\n",
    "# hist \n",
    "bins = np.linspace(0, 1, 100)\n",
    "plt.hist(controls.Propensity, bins, alpha=0.5, label='controls')\n",
    "plt.hist(cases.Propensity, bins, alpha=0.5, label='cases')\n",
    "plt.ylim(0,500)\n",
    "plt.title(\"LRCV Histogram: \"+drug)\n",
    "plt.xlabel(\"Propensity Score\")\n",
    "plt.legend(loc='upper right')\n",
    "plt.savefig(\"{}/Histogram\".format(drug))\n",
    "log(\"Hist made\")\n",
    "plt.close()\n",
    "\n",
    "# METRICS AUROC\n",
    "y_true = (df_PSM_all.get(drug)>0).astype(np.int8).values\n",
    "y_scores = df_PSM_all.get('Propensity').values\n",
    "AUROC_m = roc_auc_score(y_true, y_scores)\n",
    "log(\"AUROC from SK metric: \"+str(AUROC_m))\n",
    "\n",
    "# CV AUROC\n",
    "a, p, AUROC_CV = cross_val_score(model, X, y,scoring='roc_auc')\n",
    "log(\"AUROC from CV: \"+str(AUROC_CV))\n",
    "\n",
    "# Plot ROC\n",
    "fpr, tpr, thresholds = roc_curve(y_true, y_scores)\n",
    "data=pd.DataFrame({'fpr':fpr, 'tpr':tpr})\n",
    "plt.plot('fpr','tpr', data=data, marker='o',ms=0.1)   \n",
    "plt.title(\"LRCV ROC: \"+drug)\n",
    "plt.xlabel(\"1 - Specificity\")\n",
    "plt.ylabel(\"Sensitivity\")\n",
    "plt.savefig(\"{}/ROC\".format(drug))\n",
    "log(\"ROC made\")\n",
    "plt.close()\n",
    "\n",
    "\n"
   ]
  },
  {
   "cell_type": "code",
   "execution_count": null,
   "metadata": {},
   "outputs": [],
   "source": []
  }
 ],
 "metadata": {
  "kernelspec": {
   "display_name": "Python 3",
   "language": "python",
   "name": "python3"
  },
  "language_info": {
   "codemirror_mode": {
    "name": "ipython",
    "version": 3
   },
   "file_extension": ".py",
   "mimetype": "text/x-python",
   "name": "python",
   "nbconvert_exporter": "python",
   "pygments_lexer": "ipython3",
   "version": "3.6.5"
  },
  "notify_time": "5",
  "toc": {
   "base_numbering": 1,
   "nav_menu": {},
   "number_sections": true,
   "sideBar": true,
   "skip_h1_title": false,
   "title_cell": "Table of Contents",
   "title_sidebar": "Contents",
   "toc_cell": false,
   "toc_position": {},
   "toc_section_display": true,
   "toc_window_display": false
  }
 },
 "nbformat": 4,
 "nbformat_minor": 2
}
