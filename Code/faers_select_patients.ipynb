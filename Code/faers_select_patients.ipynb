{
 "cells": [
  {
   "cell_type": "markdown",
   "metadata": {},
   "source": [
    "# Select patients from FAERS"
   ]
  },
  {
   "cell_type": "code",
   "execution_count": 1,
   "metadata": {
    "ExecuteTime": {
     "end_time": "2020-05-25T11:30:52.327007Z",
     "start_time": "2020-05-25T11:30:50.640232Z"
    }
   },
   "outputs": [],
   "source": [
    "%load_ext autoreload\n",
    "%autoreload 2\n",
    "\n",
    "import numpy as np\n",
    "import pandas as pd \n",
    "import feather \n",
    "\n",
    "from utils import Utils\n",
    "from database import Database\n",
    "from drug import Drug\n",
    "\n",
    "u = Utils()\n",
    "db = Database('Mimir from Munnin')\n",
    "np.random.seed(u.RANDOM_STATE)"
   ]
  },
  {
   "cell_type": "code",
   "execution_count": 2,
   "metadata": {
    "ExecuteTime": {
     "end_time": "2020-05-25T11:30:55.595889Z",
     "start_time": "2020-05-25T11:30:54.889634Z"
    }
   },
   "outputs": [],
   "source": [
    "from IPython.display import display\n",
    "import matplotlib\n",
    "import matplotlib.pyplot as plt\n",
    "import seaborn as sns\n",
    "%matplotlib inline\n",
    "%config InlineBackend.figure_format = 'retina'\n",
    "\n",
    "def set_style():\n",
    "    plt.style.use(['seaborn-white', 'seaborn-paper'])\n",
    "    matplotlib.rc(\"font\", family=\"Arial\")\n",
    "set_style()"
   ]
  },
  {
   "cell_type": "markdown",
   "metadata": {},
   "source": [
    "## Find valid patients"
   ]
  },
  {
   "cell_type": "code",
   "execution_count": 3,
   "metadata": {
    "ExecuteTime": {
     "end_time": "2020-05-25T11:35:52.697151Z",
     "start_time": "2020-05-25T11:30:58.226740Z"
    }
   },
   "outputs": [
    {
     "name": "stdout",
     "output_type": "stream",
     "text": [
      "Connection opened successfully.\n"
     ]
    }
   ],
   "source": [
    "# get patients that have sex \n",
    "q_patients_w_sex = \"SELECT safetyreportid, patient_sex, patient_custom_master_age FROM effect_openfda_19q2.patient WHERE patient_sex='Female' OR patient_sex='Male'\"\n",
    "res_patients_w_sex = db.run_query(q_patients_w_sex)"
   ]
  },
  {
   "cell_type": "code",
   "execution_count": 4,
   "metadata": {
    "ExecuteTime": {
     "end_time": "2020-05-25T11:36:36.893116Z",
     "start_time": "2020-05-25T11:36:22.675900Z"
    }
   },
   "outputs": [],
   "source": [
    "# make dataframe \n",
    "df_patients = pd.DataFrame(res_patients_w_sex, columns=['PID','Sex','Age'])"
   ]
  },
  {
   "cell_type": "code",
   "execution_count": 5,
   "metadata": {
    "ExecuteTime": {
     "end_time": "2020-05-25T11:37:10.506283Z",
     "start_time": "2020-05-25T11:36:36.899816Z"
    }
   },
   "outputs": [],
   "source": [
    "# replace 'Male' 'Female' with M, F\n",
    "df_patients = df_patients.replace('Female','F').replace('Male','M')\n",
    "\n",
    "# age as int, replace missing with '-1'\n",
    "df_patients = df_patients.replace('','-1').astype({'Age': 'float'}).astype({'Age': 'int'})"
   ]
  },
  {
   "cell_type": "code",
   "execution_count": 6,
   "metadata": {
    "ExecuteTime": {
     "end_time": "2020-05-25T11:38:08.061892Z",
     "start_time": "2020-05-25T11:37:10.513041Z"
    },
    "scrolled": false
   },
   "outputs": [
    {
     "name": "stdout",
     "output_type": "stream",
     "text": [
      "Age Missing:  0.38473168782376316 %\n"
     ]
    },
    {
     "data": {
      "image/png": "[encoded data removed]",
      "text/plain": [
       "<Figure size 432x288 with 1 Axes>"
      ]
     },
     "metadata": {
      "image/png": {
       "height": 257,
       "width": 381
      },
      "needs_background": "light"
     },
     "output_type": "display_data"
    }
   ],
   "source": [
    "# age missing\n",
    "age_missing = df_patients.query('Age==\"-1\"').count()[0]/len(df_patients)\n",
    "print(\"Age Missing: \", age_missing, \"%\")\n",
    "\n",
    "# age distribution\n",
    "plt.hist(df_patients.Age, bins=10000)\n",
    "plt.title('Age Distribution')\n",
    "x=150000\n",
    "plt.ylim(0,x)\n",
    "plt.xlim(0,110)\n",
    "plt.vlines(18,0,x,'r')\n",
    "plt.vlines(85,0,x,'r')\n",
    "plt.show()"
   ]
  },
  {
   "cell_type": "code",
   "execution_count": 7,
   "metadata": {
    "ExecuteTime": {
     "end_time": "2020-05-25T11:38:17.766300Z",
     "start_time": "2020-05-25T11:38:08.066330Z"
    }
   },
   "outputs": [
    {
     "name": "stdout",
     "output_type": "stream",
     "text": [
      "Mean Age before imputing:  54.70459527612865\n",
      "Mean Age after imputing:  54.433515146311024\n",
      "Underage/Overage removed:  0.052491185686737954 %\n"
     ]
    }
   ],
   "source": [
    "# impute missing age with mean \n",
    "age_mean = df_patients.query('Age!=\"-1\"').get('Age').mean()\n",
    "print(\"Mean Age before imputing: \", age_mean)\n",
    "df_patients = df_patients.replace(-1,int(age_mean))\n",
    "print(\"Mean Age after imputing: \", df_patients.get('Age').mean())\n",
    "\n",
    "# remove age below 18 and above 85\n",
    "print(\"Underage/Overage removed: \", (len(df_patients.query('Age<18'))+len(df_patients.query('Age>85')))/len(df_patients), \"%\")\n",
    "df_patients = df_patients.query('Age>=18 and Age<=85')"
   ]
  },
  {
   "cell_type": "code",
   "execution_count": 78,
   "metadata": {
    "ExecuteTime": {
     "end_time": "2019-12-29T16:13:57.766194Z",
     "start_time": "2019-12-29T16:13:57.732267Z"
    }
   },
   "outputs": [
    {
     "name": "stdout",
     "output_type": "stream",
     "text": [
      "Database connection closed.\n"
     ]
    }
   ],
   "source": [
    "#db.run_query(\"DROP TABLE IF EXISTS user_pc2800.patient\")\n",
    "q_create_valid_patients = \"CREATE TABLE user_pc2800.patient (PID VARCHAR(255) NOT NULL, PRIMARY KEY (PID), FOREIGN KEY (PID) REFERENCES effect_openfda_19q2.patient(safetyreportid) );\"\n",
    "db.run_query(q_create_valid_patients)\n",
    "db.close_connection()"
   ]
  },
  {
   "cell_type": "code",
   "execution_count": null,
   "metadata": {
    "ExecuteTime": {
     "end_time": "2019-12-29T16:15:06.388947Z",
     "start_time": "2019-12-29T16:14:01.479602Z"
    },
    "scrolled": true
   },
   "outputs": [],
   "source": [
    "win = 100000\n",
    "for x in range(0, int(len(valid_PID)/win)+1):\n",
    "    q_insert_valid_patients = \"INSERT INTO user_pc2800.patient (PID) VALUES \"\n",
    "\n",
    "    for PID in valid_PID[x*win:x*win+win]: \n",
    "        q_insert_valid_patients += \"('\"+PID+\"'), \"\n",
    "\n",
    "    q_insert_valid_patients = \"\".join(list(q_insert_valid_patients)[:-2])\n",
    "\n",
    "    res_insert_valid_patients = db.run_query(q_insert_valid_patients)"
   ]
  },
  {
   "cell_type": "code",
   "execution_count": 11,
   "metadata": {},
   "outputs": [],
   "source": [
    "u.save_df(df_patients, 'df_patients')"
   ]
  },
  {
   "cell_type": "code",
   "execution_count": 12,
   "metadata": {},
   "outputs": [],
   "source": [
    "valid_PID = df_patients.get('PID').to_numpy()\n",
    "u.save_np(valid_PID, \"valid_PID\")"
   ]
  },
  {
   "cell_type": "markdown",
   "metadata": {},
   "source": [
    "## Load valid patients"
   ]
  },
  {
   "cell_type": "code",
   "execution_count": null,
   "metadata": {
    "ExecuteTime": {
     "start_time": "2020-05-25T11:40:31.740Z"
    }
   },
   "outputs": [],
   "source": [
    "df_patients = u.load_df('df_patients')\n",
    "valid_PID = u.load_np(\"valid_PID\")"
   ]
  },
  {
   "cell_type": "code",
   "execution_count": null,
   "metadata": {
    "ExecuteTime": {
     "start_time": "2020-05-25T11:40:35.259Z"
    }
   },
   "outputs": [],
   "source": [
    "print(\"Female patients: \", 100*df_patients.query('Sex==\"F\"').shape[0]/df_patients.shape[0], \"%\")"
   ]
  }
 ],
 "metadata": {
  "kernelspec": {
   "display_name": "Python 3",
   "language": "python",
   "name": "python3"
  },
  "language_info": {
   "codemirror_mode": {
    "name": "ipython",
    "version": 3
   },
   "file_extension": ".py",
   "mimetype": "text/x-python",
   "name": "python",
   "nbconvert_exporter": "python",
   "pygments_lexer": "ipython3",
   "version": "3.5.2"
  },
  "toc": {
   "base_numbering": 1,
   "nav_menu": {},
   "number_sections": false,
   "sideBar": true,
   "skip_h1_title": false,
   "title_cell": "Table of Contents",
   "title_sidebar": "Contents",
   "toc_cell": false,
   "toc_position": {},
   "toc_section_display": true,
   "toc_window_display": false
  }
 },
 "nbformat": 4,
 "nbformat_minor": 2
}
