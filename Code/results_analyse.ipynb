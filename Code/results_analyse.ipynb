{
 "cells": [
  {
   "cell_type": "markdown",
   "metadata": {},
   "source": [
    "# Analysis"
   ]
  },
  {
   "cell_type": "code",
   "execution_count": null,
   "metadata": {
    "ExecuteTime": {
     "end_time": "2020-05-28T11:53:19.862657Z",
     "start_time": "2020-05-28T11:53:19.783423Z"
    }
   },
   "outputs": [],
   "source": [
    "%load_ext autoreload\n",
    "%autoreload 2\n",
    "\n",
    "import numpy as np\n",
    "import pandas as pd \n",
    "import feather \n",
    "\n",
    "from utils import Utils\n",
    "from database import Database\n",
    "\n",
    "u = Utils()\n",
    "db = Database('Mimir from Munnin')\n",
    "np.random.seed(u.RANDOM_STATE)"
   ]
  },
  {
   "cell_type": "code",
   "execution_count": 22,
   "metadata": {
    "ExecuteTime": {
     "end_time": "2020-05-28T11:51:24.260868Z",
     "start_time": "2020-05-28T11:51:24.088127Z"
    }
   },
   "outputs": [
    {
     "name": "stdout",
     "output_type": "stream",
     "text": [
      "6.9% \t significant hits\n",
      "792 \t unique drugs\n",
      "297 \t unique adrs\n",
      "62.7% \t female risks\n",
      "26 \t mean adrs per drug\n"
     ]
    }
   ],
   "source": [
    "compiled = u.load_df('compiled')\n",
    "risks = u.load_df('sex_risks')\n",
    "percent_sig = risks.shape[0]/compiled.shape[0]\n",
    "print('{:.1%} \\t significant hits'.format(percent_sig))\n",
    "print(len(np.unique(risks.get('drug').values)), '\\t unique drugs')\n",
    "print(len(np.unique(risks.get('adr').values)), '\\t unique adrs')\n",
    "percent_f = risks.query('logROR_avg>0').shape[0]/risks.shape[0]\n",
    "print('{:.1%} \\t female risks'.format(percent_f))\n",
    "avg = risks.groupby(by=['drug']).count().get(['adr']).mean().values[0]\n",
    "print(\"{:.0f} \\t mean adrs per drug\".format(avg))"
   ]
  },
  {
   "cell_type": "markdown",
   "metadata": {},
   "source": [
    "## Query Sex-Risks"
   ]
  },
  {
   "cell_type": "code",
   "execution_count": null,
   "metadata": {
    "ExecuteTime": {
     "end_time": "2020-05-23T12:21:05.101392Z",
     "start_time": "2020-05-23T12:21:00.659807Z"
    }
   },
   "outputs": [],
   "source": [
    "drug = input('  Drug: ').lower()\n",
    "data = risks.query('drug_name==@drug')\n",
    "u.print_table(data)\n",
    "#u.show(data)"
   ]
  },
  {
   "cell_type": "code",
   "execution_count": null,
   "metadata": {
    "ExecuteTime": {
     "end_time": "2020-05-23T12:21:05.106775Z",
     "start_time": "2020-05-23T12:21:00.686Z"
    },
    "scrolled": true
   },
   "outputs": [],
   "source": [
    "drug = input('  Drug: ').lower()\n",
    "adr = input('  Adr: ')\n",
    "data = risks.query('drug_name==@drug and adr_name==@adr')\n",
    "u.print_table(data)\n",
    "#u.show(data)"
   ]
  },
  {
   "cell_type": "markdown",
   "metadata": {},
   "source": [
    "## Analyse sex risks for most prescribed drugs"
   ]
  },
  {
   "cell_type": "code",
   "execution_count": 26,
   "metadata": {
    "ExecuteTime": {
     "end_time": "2020-05-28T11:53:35.483111Z",
     "start_time": "2020-05-28T11:53:35.252737Z"
    }
   },
   "outputs": [
    {
     "name": "stdout",
     "output_type": "stream",
     "text": [
      "66 \t mean adrs per drug\n",
      "\n",
      "F \t 1.33 (1.33, 1.34) \t atorvastatin \t hlgt Glucose metabolism disorders (incl diabetes mellitus)\n",
      "\n",
      "M \t 0.59 (0.57, 0.61) \t atorvastatin \t hlgt Vascular therapeutic procedures\n",
      "\n",
      "F \t 0.94 (0.91, 0.97) \t levothyroxine sodium \t hlgt Synovial and bursal disorders\n",
      "\n",
      "M \t 2.15 (2.13, 2.17) \t levothyroxine sodium \t hlgt Congenital cardiac disorders\n",
      "\n",
      "F \t 1.06 (1.04, 1.07) \t lisinopril \t hlgt Anterior eye structural change, deposit and degeneration\n",
      "\n",
      "M \t 0.39 (0.38, 0.40) \t lisinopril \t hlgt Suicidal and self-injurious behaviours NEC\n",
      "\n",
      "F \t 0.58 (0.56, 0.60) \t gabapentin \t hlgt Aural disorders NEC\n",
      "\n",
      "M \t 0.72 (0.70, 0.74) \t gabapentin \t hlgt Haemolyses and related conditions\n",
      "\n",
      "F \t 0.74 (0.72, 0.76) \t amlodipine \t hlgt Anterior eye structural change, deposit and degeneration\n",
      "\n",
      "M \t 0.91 (0.88, 0.94) \t amlodipine \t hlgt Hepatobiliary neoplasms malignant and unspecified\n",
      "\n",
      "F \t 0.46 (0.45, 0.47) \t amoxicillin \t hlgt Allergic conditions\n",
      "\n",
      "M \t 0.67 (0.65, 0.69) \t amoxicillin \t hlgt Fatal outcomes\n",
      "\n",
      "F \t 0.99 (0.96, 1.02) \t omeprazole \t hlgt Connective tissue disorders (excl congenital)\n",
      "\n",
      "M \t 0.89 (0.87, 0.92) \t omeprazole \t hlgt Hepatobiliary neoplasms malignant and unspecified\n",
      "\n",
      "F \t 0.66 (0.65, 0.68) \t metformin \t hlgt Anterior eye structural change, deposit and degeneration\n",
      "\n",
      "M \t 0.90 (0.87, 0.92) \t metformin \t hlgt Hepatobiliary neoplasms malignant and unspecified\n",
      "\n",
      "F \t 0.77 (0.74, 0.79) \t losartan \t hlgt Fractures\n",
      "\n",
      "M \t 0.62 (0.61, 0.64) \t losartan \t hlgt Fatal outcomes\n",
      "\n",
      "F \t 0.73 (0.71, 0.76) \t paracetamol \t hlgt Connective tissue disorders (excl congenital)\n",
      "\n",
      "M \t 1.19 (1.16, 1.23) \t paracetamol \t hlgt Urethral disorders (excl calculi)\n"
     ]
    }
   ],
   "source": [
    "# https://www.beckershospitalreview.com/pharmacy/10-most-prescribed-drugs-in-the-u-s-in-q1.html\n",
    "prescribed = [\n",
    "    'Atorvastatin',\n",
    "    'Levothyroxine sodium',\n",
    "    'Lisinopril',\n",
    "    'Gabapentin',\n",
    "    'Amlodipine',\n",
    "    'Amoxicillin',\n",
    "    'Omeprazole',\n",
    "    'Metformin',\n",
    "    'Losartan',\n",
    "    'Paracetamol'\n",
    "]\n",
    "prescribed = [x.lower() for x in prescribed]\n",
    "\n",
    "\n",
    "ignore = ['Uterine, pelvic and broad ligament disorders', 'Age related factors', 'Cytogenetic investigations','Genitourinary tract disorders NEC','Renal and urinary tract neoplasms malignant and unspecified']\n",
    "df = risks.query('drug_name in @prescribed').query('adr_name not in @ignore')\n",
    "avg = df.groupby(by=['drug']).count().get(['adr']).mean().values[0]\n",
    "print(\"{:.0f} \\t mean adrs per drug\".format(avg))\n",
    "\n",
    "for drug in prescribed: \n",
    "    df = risks.query('drug_name ==@drug').query('adr_name not in @ignore')\n",
    "    u.print_table(df.loc[df.get(['logROR_avg']).idxmax(),:])\n",
    "    u.print_table(df.loc[df.get(['logROR_avg']).idxmin(),:])"
   ]
  },
  {
   "cell_type": "markdown",
   "metadata": {},
   "source": [
    "## Analyse sex risks for drugs with most ADRs"
   ]
  },
  {
   "cell_type": "code",
   "execution_count": 28,
   "metadata": {
    "ExecuteTime": {
     "end_time": "2020-05-28T11:54:24.059236Z",
     "start_time": "2020-05-28T11:54:23.815469Z"
    }
   },
   "outputs": [
    {
     "name": "stdout",
     "output_type": "stream",
     "text": [
      "ADRs per drug \t 87\n",
      "\n",
      "F \t 0.93 (0.89, 0.96) \t etanercept \t hlgt Somatic symptom and related disorders\n",
      "\n",
      "M \t 1.03 (1.01, 1.06) \t etanercept \t hlgt Vascular therapeutic procedures\n",
      "\n",
      "F \t 1.04 (1.02, 1.05) \t adalimumab \t hlgt Connective tissue disorders (excl congenital)\n",
      "\n",
      "M \t 1.27 (1.23, 1.32) \t adalimumab \t hlgt Urethral disorders (excl calculi)\n",
      "\n",
      "F \t 1.20 (1.15, 1.25) \t calcium carbonate \t hlgt Anterior eye structural change, deposit and degeneration\n",
      "\n",
      "M \t 0.58 (0.56, 0.59) \t calcium carbonate \t hlgt Purine and pyrimidine metabolism disorders\n",
      "\n",
      "F \t 0.87 (0.83, 0.91) \t acetylsalicylic acid \t hlgt Somatic symptom and related disorders\n",
      "\n",
      "M \t 0.59 (0.57, 0.61) \t acetylsalicylic acid \t hlgt Purine and pyrimidine metabolism disorders\n",
      "\n",
      "F \t 0.73 (0.71, 0.76) \t paracetamol \t hlgt Connective tissue disorders (excl congenital)\n",
      "\n",
      "M \t 1.19 (1.16, 1.23) \t paracetamol \t hlgt Urethral disorders (excl calculi)\n",
      "\n",
      "F \t 0.66 (0.65, 0.68) \t metformin \t hlgt Anterior eye structural change, deposit and degeneration\n",
      "\n",
      "M \t 0.90 (0.87, 0.92) \t metformin \t hlgt Hepatobiliary neoplasms malignant and unspecified\n",
      "\n",
      "F \t 0.99 (0.96, 1.02) \t omeprazole \t hlgt Connective tissue disorders (excl congenital)\n",
      "\n",
      "M \t 0.89 (0.87, 0.92) \t omeprazole \t hlgt Hepatobiliary neoplasms malignant and unspecified\n",
      "\n",
      "F \t 1.08 (1.06, 1.10) \t methotrexate \t hlgt Connective tissue disorders (excl congenital)\n",
      "\n",
      "M \t 1.58 (1.55, 1.62) \t methotrexate \t hlgt Chromosomal abnormalities and abnormal gene carriers\n",
      "\n",
      "F \t 0.74 (0.72, 0.76) \t amlodipine \t hlgt Anterior eye structural change, deposit and degeneration\n",
      "\n",
      "M \t 0.91 (0.88, 0.94) \t amlodipine \t hlgt Hepatobiliary neoplasms malignant and unspecified\n",
      "\n",
      "F \t 0.80 (0.77, 0.82) \t furosemide \t hlgt Aural disorders NEC\n",
      "\n",
      "M \t 0.49 (0.48, 0.50) \t furosemide \t hlgt Encephalopathies\n"
     ]
    }
   ],
   "source": [
    "most_adrs = [\n",
    "    'etanercept',\n",
    "    'adalimumab',\n",
    "    'calcium carbonate',\n",
    "    'acetylsalicylic acid',\n",
    "    'paracetamol',\n",
    "    'metformin',\n",
    "    'omeprazole',\n",
    "    'methotrexate',\n",
    "    'amlodipine',\n",
    "    'furosemide',\n",
    "\n",
    "]\n",
    "\n",
    "df = risks.query('drug_name in @most_adrs').query('adr_name not in @ignore')\n",
    "avg = df.groupby(by=['drug']).count().get(['adr']).mean().values[0]\n",
    "print(\"ADRs per drug \\t {:.0f}\".format(avg))\n",
    "\n",
    "for drug in most_adrs: \n",
    "    df = risks.query('drug_name ==@drug').query('adr_name not in @ignore')\n",
    "    u.print_table(df.loc[df.get(['logROR_avg']).idxmax(),:])\n",
    "    u.print_table(df.loc[df.get(['logROR_avg']).idxmin(),:])"
   ]
  }
 ],
 "metadata": {
  "kernelspec": {
   "display_name": "Python 3",
   "language": "python",
   "name": "python3"
  },
  "language_info": {
   "codemirror_mode": {
    "name": "ipython",
    "version": 3
   },
   "file_extension": ".py",
   "mimetype": "text/x-python",
   "name": "python",
   "nbconvert_exporter": "python",
   "pygments_lexer": "ipython3",
   "version": "3.5.2"
  },
  "toc": {
   "base_numbering": 1,
   "nav_menu": {},
   "number_sections": false,
   "sideBar": true,
   "skip_h1_title": false,
   "title_cell": "Table of Contents",
   "title_sidebar": "Contents",
   "toc_cell": false,
   "toc_position": {},
   "toc_section_display": true,
   "toc_window_display": false
  }
 },
 "nbformat": 4,
 "nbformat_minor": 2
}
