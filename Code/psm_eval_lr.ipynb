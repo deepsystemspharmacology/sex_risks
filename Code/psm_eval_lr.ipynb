{
 "cells": [
  {
   "cell_type": "markdown",
   "metadata": {},
   "source": [
    "# LR model AUC ROC"
   ]
  },
  {
   "cell_type": "code",
   "execution_count": 2,
   "metadata": {
    "ExecuteTime": {
     "end_time": "2020-05-25T10:58:11.076799Z",
     "start_time": "2020-05-25T10:58:11.055328Z"
    }
   },
   "outputs": [],
   "source": [
    "import numpy as np\n",
    "import pandas as pd \n",
    "import feather \n",
    "\n",
    "from scipy import stats\n",
    "from scipy.sparse import hstack, coo_matrix, save_npz, load_npz\n",
    "\n",
    "from sklearn.pipeline import Pipeline\n",
    "from sklearn.feature_selection import chi2, f_classif, SelectPercentile\n",
    "from sklearn.ensemble import RandomForestClassifier\n",
    "from sklearn.model_selection import GridSearchCV\n",
    "from sklearn.metrics import roc_auc_score, roc_curve\n",
    "import joblib\n",
    "\n",
    "import pymysql\n",
    "import pymysql.cursors\n",
    "from database import Database\n",
    "\n",
    "from utils import Utils\n",
    "\n",
    "db = Database('Mimir from Munnin')\n",
    "u = Utils()\n",
    "np.random.seed(u.RANDOM_STATE)"
   ]
  },
  {
   "cell_type": "code",
   "execution_count": 4,
   "metadata": {
    "ExecuteTime": {
     "end_time": "2020-05-25T10:59:44.651602Z",
     "start_time": "2020-05-25T10:58:21.181498Z"
    }
   },
   "outputs": [
    {
     "name": "stdout",
     "output_type": "stream",
     "text": [
      "ROC-AUC: 0.69\n"
     ]
    }
   ],
   "source": [
    "# load data\n",
    "df_patients = u.load_df('df_patients')\n",
    "df_patients = df_patients.sort_values(by='PID')\n",
    "\n",
    "# build features\n",
    "drugs = u.load_np('drugs')\n",
    "\n",
    "drug_features = []\n",
    "for i, drugID in enumerate(drugs[:1458]): \n",
    "    f = u.load_feature(str(i))\n",
    "    drug_features.append(f)\n",
    "    \n",
    "age_feature = coo_matrix(df_patients.get('Age').values.reshape(u.NUM_PATIENTS, 1))\n",
    "\n",
    "num_drugs_feature = coo_matrix(hstack(drug_features).sum(1))\n",
    "\n",
    "features = []\n",
    "features.append(age_feature)\n",
    "features.append(num_drugs_feature)\n",
    "features.extend(drug_features)\n",
    "\n",
    "X = hstack(features)\n",
    "y = u.load_feature('label').toarray().reshape(-1)\n",
    "\n",
    "X_new = SelectPercentile(chi2, percentile=10).fit_transform(X, y)\n",
    "\n",
    "# load model and predict propensity scores\n",
    "\n",
    "model = joblib.load(u.DATA_PATH+'PSM_models/LR/Best.pkl')\n",
    "clf = model['classifier']\n",
    "p_scores = clf.predict_proba(X_new)[:, 1]\n",
    "\n",
    "y_true = df_patients.get('Sex').replace('F', 1).replace('M', 0).values\n",
    "y_pred = p_scores\n",
    "roc_auc = roc_auc_score(y_true, y_pred)\n",
    "print('ROC-AUC: {:.2f}'.format(roc_auc))"
   ]
  }
 ],
 "metadata": {
  "kernelspec": {
   "display_name": "Python 3",
   "language": "python",
   "name": "python3"
  },
  "language_info": {
   "codemirror_mode": {
    "name": "ipython",
    "version": 3
   },
   "file_extension": ".py",
   "mimetype": "text/x-python",
   "name": "python",
   "nbconvert_exporter": "python",
   "pygments_lexer": "ipython3",
   "version": "3.5.2"
  },
  "toc": {
   "base_numbering": 1,
   "nav_menu": {},
   "number_sections": false,
   "sideBar": true,
   "skip_h1_title": false,
   "title_cell": "Table of Contents",
   "title_sidebar": "Contents",
   "toc_cell": false,
   "toc_position": {},
   "toc_section_display": true,
   "toc_window_display": false
  }
 },
 "nbformat": 4,
 "nbformat_minor": 4
}
