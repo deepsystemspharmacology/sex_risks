{
 "cells": [
  {
   "cell_type": "code",
   "execution_count": 225,
   "metadata": {
    "ExecuteTime": {
     "end_time": "2019-03-12T17:36:51.523774Z",
     "start_time": "2019-03-12T17:36:51.515763Z"
    },
    "code_folding": [
     0
    ]
   },
   "outputs": [],
   "source": [
    "#imports \n",
    "import multiprocessing\n",
    "import datetime\n",
    "import feather\n",
    "import matplotlib as mpt\n",
    "import matplotlib.pyplot as plt\n",
    "import numpy as np\n",
    "import pandas as pd\n",
    "import scipy as sc\n",
    "import seaborn as sns\n",
    "import sys\n",
    "import pickle\n",
    "import os\n",
    "import shutil\n",
    "from sklearn.linear_model import LogisticRegression\n",
    "from sklearn.linear_model import LogisticRegressionCV\n",
    "from sklearn.model_selection import cross_val_score\n",
    "from sklearn.metrics import roc_auc_score\n",
    "from sklearn.metrics import roc_curve"
   ]
  },
  {
   "cell_type": "code",
   "execution_count": 226,
   "metadata": {
    "ExecuteTime": {
     "end_time": "2019-03-12T17:38:26.163921Z",
     "start_time": "2019-03-12T17:36:51.526595Z"
    }
   },
   "outputs": [],
   "source": [
    "today = datetime.date.today().isoformat()\n",
    "df_aeolus = feather.read_dataframe('Data/AEOLUS_clean_ranked.feather')\n",
    "drug = 'Aspirin'\n",
    "drugID = df_aeolus.query('drug_concept_name==@drug').get('drug_concept_id').values.item(0)\n"
   ]
  },
  {
   "cell_type": "code",
   "execution_count": 253,
   "metadata": {
    "ExecuteTime": {
     "end_time": "2019-03-12T20:23:10.600491Z",
     "start_time": "2019-03-12T20:23:10.479563Z"
    },
    "code_folding": [
     1,
     24,
     41,
     72,
     79,
     86,
     107,
     115,
     127,
     135,
     143
    ]
   },
   "outputs": [],
   "source": [
    "# workflow functions:\n",
    "def match(df, cal=0.05, minCtrl = 10, numBins = 100):\n",
    "    allCases = df.copy(deep=True).query('{}==1'.format(drug))\n",
    "    allControls = df.query('{}==0'.format(drug))\n",
    "    \n",
    "    if (len(allCases)<50):\n",
    "        print('insufficient cases')\n",
    "        return\n",
    "    \n",
    "    allCases['bin'] = pd.cut(allCases.Propensity, numBins)\n",
    "    mCases, mControls = [], []\n",
    "    \n",
    "    for cBin, caseData in allCases.groupby(by='bin'):\n",
    "        minPS, maxPS = cBin.left, cBin.right\n",
    "        numCtrl = len(caseData)*minCtrl\n",
    "        \n",
    "        controlOptions = allControls.query('Propensity > (@minPS-@cal) and Propensity < (@maxPS+@cal)').get('ID').values\n",
    "        \n",
    "        if (len(controlOptions)>minCtrl):\n",
    "            mCases = np.append(mCases, caseData.get('ID').values)\n",
    "            mControls = np.append(mControls, (np.random.choice(controlOptions, numCtrl)))\n",
    "    \n",
    "    return mCases, mControls\n",
    "\n",
    "def selectData(cases, controls, source=df_aeolus, drug=drug):\n",
    "    selection = []\n",
    "\n",
    "    selection.append(source[source.id.isin(cases)])\n",
    "\n",
    "    ctrl_unique, ctrl_counts = np.unique(controls, return_counts=True)\n",
    "\n",
    "    for count in np.unique(ctrl_counts):  \n",
    "        idx = np.where(ctrl_counts==count)\n",
    "        ctrls = np.take(ctrl_unique, idx)\n",
    "\n",
    "        toAdd = source[source.id.isin(np.hstack(ctrls))]\n",
    "        for i in range(0,count): \n",
    "                selection.append(toAdd)\n",
    "\n",
    "    return pd.concat(selection, ignore_index=True)\n",
    "\n",
    "def doChiSquareX(cases, source=df_matched, drugName=drug, drugID=drugID):\n",
    "    chiResult = []\n",
    "    df_drug = source[source.id.isin(cases)].query('drug_concept_id==@drugID')\n",
    "\n",
    "    XM = df_drug.query('gender_code==\"M\"').shape[0]\n",
    "    XF = df_drug.query('gender_code==\"F\"').shape[0]\n",
    "\n",
    "    for outID in df_drug.get('snomed_outcome_concept_id').unique():\n",
    "\n",
    "        df_out = df_drug.query('snomed_outcome_concept_id==@outID')\n",
    "\n",
    "        outName = df_out.iloc[0].get('outcome_concept_name')\n",
    "        outRank = df_out.iloc[0].get('outcome_rank')\n",
    "\n",
    "        XME = df_out.query('gender_code==\"M\"').shape[0]\n",
    "        XFE = df_out.query('gender_code==\"F\"').shape[0]\n",
    "\n",
    "        if ((not XME == 0) and (not XFE == 0)):\n",
    "            contingencyTable = [[XFE, XF], [XME, XM]]\n",
    "        else:\n",
    "            contingencyTable = [[1, 1], [1, 1]]\n",
    "\n",
    "        chi2, p, dof, expected = sc.stats.chi2_contingency(contingencyTable)\n",
    "\n",
    "        cols = ['snomed_outcome_concept_id', 'outcome_concept_name', 'outcome_rank', 'p_valueX', 'XFE', 'XME', 'XM', 'XF']\n",
    "        data = [[outID, outName, outRank, float(p), XFE, XME, XM, XF]]\n",
    "\n",
    "        chiResult.append(pd.DataFrame(columns=cols, data=data))\n",
    "\n",
    "    return pd.concat(chiResult, ignore_index=True) \n",
    "\n",
    "def bonferroni(df, colName):\n",
    "    p_values = pd.to_numeric(df[colName])\n",
    "    bonferroni_pvalues = p_values * len(p_values)\n",
    "    df = df.assign(newCol=bonferroni_pvalues)\n",
    "    newCol = 'bonf_' + colName\n",
    "    return df.rename(columns={'newCol': newCol})\n",
    "\n",
    "def getPairsX(cases, alpha=0.05):\n",
    "\n",
    "    df_chi = doChiSquareX(cases)\n",
    "    df_bonf = bonferroni(df=df_chi, colName='p_valueX' )\n",
    "\n",
    "    return df_bonf.query('bonf_p_valueX<=@alpha')\n",
    "\n",
    "def doChiSquareE(df, source=df_matched, drugName=drug):\n",
    "    \n",
    "    TF = source.query('gender_code==\"F\"').shape[0]\n",
    "    TM = source.query('gender_code==\"M\"').shape[0]\n",
    "    \n",
    "    for idx, data in df.iterrows():\n",
    "        \n",
    "        df_out = source.query('snomed_outcome_concept_id==@data.snomed_outcome_concept_id')\n",
    "        \n",
    "        TFE = df_out.query('gender_code==\"F\"').shape[0]\n",
    "        TME = df_out.query('gender_code==\"M\"').shape[0]\n",
    "        \n",
    "        contingencyTable = [[TFE, TF], [TME, TM]]\n",
    "        chi2, p, dof, expected = sc.stats.chi2_contingency(contingencyTable)\n",
    "        \n",
    "        df.at[idx, 'p_valueE'] = p\n",
    "        df.at[idx, 'TFE'] = TFE\n",
    "        df.at[idx, 'TME'] = TME \n",
    "        \n",
    "    return df\n",
    "\n",
    "def getE(df=df_pairsX, alpha=0.05):\n",
    "    df_chi = doChiSquareE(df)\n",
    "    df_bonf = bonferroni(df=df_chi, colName='p_valueE' )\n",
    "    \n",
    "    df_bonf['p_valueE'] = df_bonf.get('p_valueE').mask(df_bonf.get('p_valueE')>alpha, float('nan'))\n",
    "    \n",
    "    return df_bonf\n",
    "\n",
    "def RORe(df, source=df_matched, drug=drug):\n",
    "    \n",
    "    TF = source.query('gender_code==\"F\"').shape[0]\n",
    "    TM = source.query('gender_code==\"M\"').shape[0]\n",
    "    \n",
    "    df['TFe'] = TF-df['TFE']\n",
    "    df['TMe'] = TM-df['TME']\n",
    "    \n",
    "    df.eval('RORE = log((TFE/TFe)/(TME/TMe))', inplace=True)\n",
    "    \n",
    "    return df\n",
    "\n",
    "def RORx(df): \n",
    "    df['XFe'] = df['XF']-df['XFE']\n",
    "    df['XMe'] = df['XM']-df['XME']\n",
    "    \n",
    "    df.eval('RORX = log((XFE/XFe)/(XME/XMe))', inplace=True)\n",
    "    \n",
    "    return df\n",
    "\n",
    "def normalize(df, cols=['RORX','RORE']):\n",
    "    for col in cols: \n",
    "        x = np.fabs(df[col])\n",
    "        x = (x-x.min())/(x.max()-x.min())\n",
    "        df = df.assign(xNorm=x).rename(columns={'xNorm': col+\"N\"})\n",
    "        \n",
    "    return df\n",
    "\n",
    "def getRisk(df):\n",
    "    \n",
    "    for i, data in df.iterrows():\n",
    "        e = data.RORE\n",
    "        x = data.RORX\n",
    "\n",
    "        if(data.p_valueE):\n",
    "            if(x<0):\n",
    "                if((e<0)&(x<e)):\n",
    "                    df.at[i, 'RORa'] = x-e\n",
    "            else:\n",
    "                if((e>0)&(e<x)):\n",
    "                    df.at[i, 'RORa'] = x-e\n",
    "                \n",
    "    df_risk = df\n",
    "    df_risk.query('RORX>1 | RORX<-1', inplace=True)\n",
    "    df_risk = normalize(df_risk, cols=['RORa']).eval('risk=RORaN*outcome_rank')\n",
    "    \n",
    "    for i, data in df_risk.iterrows():\n",
    "        if(data.RORa<0):\n",
    "            df_risk.at[i, 'risk'] = data.risk*(-1)\n",
    "    \n",
    "    return df_risk"
   ]
  },
  {
   "cell_type": "code",
   "execution_count": 228,
   "metadata": {
    "ExecuteTime": {
     "end_time": "2019-03-12T17:43:00.792157Z",
     "start_time": "2019-03-12T17:38:53.746240Z"
    }
   },
   "outputs": [],
   "source": [
    "scores = feather.read_dataframe(\"{}/PSM/LRCV pscores.feather\".format(drug))\n",
    "\n",
    "cases, controls = match(scores)\n",
    "\n",
    "df_matched = selectData(cases, controls)"
   ]
  },
  {
   "cell_type": "code",
   "execution_count": 230,
   "metadata": {
    "ExecuteTime": {
     "end_time": "2019-03-12T17:45:57.075364Z",
     "start_time": "2019-03-12T17:43:00.903120Z"
    }
   },
   "outputs": [],
   "source": [
    "df_pairsX = getPairsX(cases)"
   ]
  },
  {
   "cell_type": "code",
   "execution_count": 250,
   "metadata": {
    "ExecuteTime": {
     "end_time": "2019-03-12T19:54:51.707498Z",
     "start_time": "2019-03-12T18:02:50.576496Z"
    }
   },
   "outputs": [],
   "source": [
    "df_XE = getE(df_pairsX)"
   ]
  },
  {
   "cell_type": "code",
   "execution_count": 234,
   "metadata": {
    "ExecuteTime": {
     "end_time": "2019-03-12T17:54:11.075089Z",
     "start_time": "2019-03-12T17:52:03.274709Z"
    }
   },
   "outputs": [],
   "source": [
    "df_ROR = RORe(RORx(df_XE))"
   ]
  },
  {
   "cell_type": "code",
   "execution_count": 236,
   "metadata": {
    "ExecuteTime": {
     "end_time": "2019-03-12T17:54:11.236341Z",
     "start_time": "2019-03-12T17:54:11.136497Z"
    }
   },
   "outputs": [],
   "source": [
    "df_risk = getRisk(df_ROR)"
   ]
  },
  {
   "cell_type": "code",
   "execution_count": 294,
   "metadata": {
    "ExecuteTime": {
     "end_time": "2019-03-13T01:10:11.347168Z",
     "start_time": "2019-03-13T01:10:11.334745Z"
    }
   },
   "outputs": [
    {
     "name": "stdout",
     "output_type": "stream",
     "text": [
      "Highest Risks to Females: \n",
      "1  Disorder.Of.Nail  0.009127  132706\n"
     ]
    }
   ],
   "source": [
    "f = \"Highest Risks to Females: \\n\"+df_risk.nlargest(5, 'risk')\\\n",
    "        .get(['outcome_concept_name','risk','snomed_outcome_concept_id'])\\\n",
    "        .set_index(np.arange(1,6))\\\n",
    "        .query('risk>0')\\\n",
    "        .to_string(header=False)\n",
    "    \n",
    "print(s)"
   ]
  },
  {
   "cell_type": "code",
   "execution_count": 297,
   "metadata": {
    "ExecuteTime": {
     "end_time": "2019-03-13T01:11:06.849564Z",
     "start_time": "2019-03-13T01:11:06.836220Z"
    }
   },
   "outputs": [
    {
     "name": "stdout",
     "output_type": "stream",
     "text": [
      "Highest Risks to Male: \n",
      "1                  Viral.Hepatitis.C -0.263298  197494\n",
      "2                    Dermatomyositis -0.243833   80182\n",
      "3          Urinary.Tract.Obstruction -0.171459  194406\n",
      "4          Ischemic.Optic.Neuropathy -0.145658  373487\n",
      "5  Delay.When.Starting.To.Pass.Urine -0.139755  201688\n"
     ]
    }
   ],
   "source": [
    "m = \"Highest Risks to Male: \\n\"+df_risk.nsmallest(5, 'risk')\\\n",
    "        .get(['outcome_concept_name','risk','snomed_outcome_concept_id'])\\\n",
    "        .set_index(np.arange(1,6))\\\n",
    "        .query('risk<0')\\\n",
    "        .to_string(header=False, justify='justify')\n",
    "    \n",
    "print(m)"
   ]
  },
  {
   "cell_type": "code",
   "execution_count": null,
   "metadata": {},
   "outputs": [],
   "source": []
  }
 ],
 "metadata": {
  "kernelspec": {
   "display_name": "Python 3",
   "language": "python",
   "name": "python3"
  },
  "language_info": {
   "codemirror_mode": {
    "name": "ipython",
    "version": 3
   },
   "file_extension": ".py",
   "mimetype": "text/x-python",
   "name": "python",
   "nbconvert_exporter": "python",
   "pygments_lexer": "ipython3",
   "version": "3.6.5"
  },
  "toc": {
   "base_numbering": 1,
   "nav_menu": {},
   "number_sections": false,
   "sideBar": true,
   "skip_h1_title": false,
   "title_cell": "Table of Contents",
   "title_sidebar": "Contents",
   "toc_cell": false,
   "toc_position": {
    "height": "calc(100% - 180px)",
    "left": "10px",
    "top": "150px",
    "width": "230px"
   },
   "toc_section_display": true,
   "toc_window_display": false
  }
 },
 "nbformat": 4,
 "nbformat_minor": 2
}
